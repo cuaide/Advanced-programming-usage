{
  "nbformat": 4,
  "nbformat_minor": 0,
  "metadata": {
    "colab": {
      "provenance": [],
      "authorship_tag": "ABX9TyN66L6pneg5OCv0NpgKDnAi"
    },
    "kernelspec": {
      "name": "python3",
      "display_name": "Python 3"
    },
    "language_info": {
      "name": "python"
    }
  },
  "cells": [
    {
      "cell_type": "markdown",
      "source": [
        "정수 N을 입력받아서, 1번째 줄에는 별 N개, 2번째 줄에는 별 N-1개, ..., N번째 줄에는 별 1개를 출력 예시와 같이 출력하여라.\n",
        "(단, 별 사이에 반드시 공백을 포함해야 한다.)"
      ],
      "metadata": {
        "id": "5vouR6ZZNKuO"
      }
    },
    {
      "cell_type": "code",
      "source": [
        "n=int(input())\n",
        "for i in range(n):\n",
        "  space1=' '*i\n",
        "  space2='*'*(n-i)\n",
        "  print(space1+space2)"
      ],
      "metadata": {
        "id": "HchfUQOTEYD8",
        "colab": {
          "base_uri": "https://localhost:8080/"
        },
        "outputId": "4762a2d1-aa74-4042-89c1-d50e58a02bf5"
      },
      "execution_count": null,
      "outputs": [
        {
          "output_type": "stream",
          "name": "stdout",
          "text": [
            "3\n",
            "***\n",
            " **\n",
            "  *\n"
          ]
        }
      ]
    },
    {
      "cell_type": "markdown",
      "source": [
        "정수 N을 입력받아서, 1번째 줄에는 별 1개, 2번째 줄에는 별 2개, ...,  N번째 줄에는 별 N개를 출력 예시와 같이 출력하여라.\n",
        "(Hint: 별 앞에 띄어쓰기가 1번째 줄에는 N - 1개, 2번째 줄에는 N - 2개, ..., N번째 줄에는 0개 있으며 별 사이에 반드시 공백을 포함해야 한다.)\n",
        "(P.S.: 출력되는 텍스트의 글꼴에 따라서, 띄어쓰기 너비가 글자 너비와 같지 않은 경우는 모양이 살짝 다르게 나올 수도 있다.)\n",
        "[입력 예시 1]\n",
        "3\n",
        "\n",
        "[출력 예시 1]\n",
        "    *\n",
        "  * *\n",
        "* * *"
      ],
      "metadata": {
        "id": "RrM5mQQDurtc"
      }
    },
    {
      "cell_type": "code",
      "execution_count": null,
      "metadata": {
        "id": "0rJAQ2hxEWV6",
        "colab": {
          "base_uri": "https://localhost:8080/"
        },
        "outputId": "3e7e5992-b54c-4c5e-a2c0-4c160ac5efcf"
      },
      "outputs": [
        {
          "output_type": "stream",
          "name": "stdout",
          "text": [
            "3\n",
            "  *\n",
            " **\n",
            "***\n"
          ]
        }
      ],
      "source": [
        "n=int(input())\n",
        "for i in range(n):\n",
        "  space1=' '*(n-i-1)\n",
        "  space2='*'*(i+1)\n",
        "  print(space1+space2)"
      ]
    },
    {
      "cell_type": "markdown",
      "source": [
        "주사위 3개를 던졌을 때,\n",
        "세 주사위 합이 4의 배수인지 6의 배수인지\n",
        "판별하는 프로그램을 작성하라.\n",
        "(주사위의 눈은 6이하의 자연수이므로, 1 부터 6을 제외한 다른 수의 입력은 제외한다.)\n",
        "[입력 예시 1]\n",
        "1\n",
        "2\n",
        "3\n",
        "[출력 예시 1]\n",
        "6 is multiple of 6\n",
        "[입력 예시 2]\n",
        "3\n",
        "4\n",
        "5\n",
        "[출력 예시 2]\n",
        "12 is multiple of 4 and 6\n",
        "[입력 예시 3]\n",
        "1\n",
        "1\n",
        "1\n",
        "[출력 예시 3]\n",
        "3 is not multiple of 4 or 6\n",
        "[입력 예시 4]\n",
        "1\n",
        "5\n",
        "2\n",
        "[출력 예시 4]\n",
        "8 is multiple of 4"
      ],
      "metadata": {
        "id": "srrZN1wNu1cF"
      }
    },
    {
      "cell_type": "code",
      "source": [
        "a=int(input())\n",
        "b=int(input())\n",
        "c=int(input())\n",
        "\n",
        "sum=a+b+c\n",
        "\n",
        "if sum % 4 ==0 and sum % 6 ==0:\n",
        "  print(\"%d is multiple of 4 and 6\"%(sum))\n",
        "elif sum % 4 ==0 and sum % 6 !=0:\n",
        "  print(\"%d is multiple of 4\"%(sum))\n",
        "elif sum % 4!=0 and sum % 6 ==0:\n",
        "  print(\"%d is multiple of 6\"%(sum))\n",
        "else:\n",
        "  print(\"%d is not multiple of 4 or 6\"%(sum))"
      ],
      "metadata": {
        "colab": {
          "base_uri": "https://localhost:8080/"
        },
        "id": "GMLRBAxLNXze",
        "outputId": "e497e8f0-015f-46ae-f542-6d1d0dcfdd42"
      },
      "execution_count": null,
      "outputs": [
        {
          "output_type": "stream",
          "name": "stdout",
          "text": [
            "1\n",
            "2\n",
            "3\n",
            "6 is multiple of 6\n"
          ]
        }
      ]
    },
    {
      "cell_type": "markdown",
      "source": [
        "자연수 n1과 n2를 입력받아 for문을 이용하여 n1:00 부터 n2:00까지\n",
        "시 단위로 출력하는 프로그램을 작성하라.\n",
        "(단, n1>n2이면 n2는 그 다음날의 시간이며 0시는 항상 24시로 표시한다. )\n",
        "[입력 예시 1]\n",
        "1\n",
        "3\n",
        "[출력 예시 1]\n",
        "01:00\n",
        "02:00\n",
        "03:00"
      ],
      "metadata": {
        "id": "r9OpAjATvAHL"
      }
    },
    {
      "cell_type": "code",
      "source": [
        "n1 = int(input())\n",
        "n2 = int(input())\n",
        "if n1<=n2:\n",
        "   for i in range(n1,n2+1):\n",
        "    print(\"%02d:00\"%(i))\n",
        "else:\n",
        "  for i in range(n1,25):\n",
        "    print(\"%02d:00\"%(i))\n",
        "  for j in range(1,n2+1):\n",
        "    print(\"%02d:00\"%(j))\n",
        "\n"
      ],
      "metadata": {
        "colab": {
          "base_uri": "https://localhost:8080/"
        },
        "id": "iC_BiUpjQLhW",
        "outputId": "c5c2d2ea-c072-4f24-f97a-7ac539b03772"
      },
      "execution_count": null,
      "outputs": [
        {
          "output_type": "stream",
          "name": "stdout",
          "text": [
            "5\n",
            "1\n",
            "05:00\n",
            "06:00\n",
            "07:00\n",
            "08:00\n",
            "09:00\n",
            "10:00\n",
            "11:00\n",
            "12:00\n",
            "13:00\n",
            "14:00\n",
            "15:00\n",
            "16:00\n",
            "17:00\n",
            "18:00\n",
            "19:00\n",
            "20:00\n",
            "21:00\n",
            "22:00\n",
            "23:00\n",
            "24:00\n",
            "01:00\n"
          ]
        }
      ]
    },
    {
      "cell_type": "markdown",
      "source": [
        "반복해서 문자와 숫자를 입력받아 입력 받는 문자를 각 숫자만큼 이어서 출력하는 프로그램을 작성하시오.\n",
        "이때 문자 \"?\" 또는 \"!\" 를 입력 받으면 숫자를 입력 받지 않고 출력도 하지 않으며,\n",
        "문자 \";\"을 입력 받은 경우 숫자를 입력받지 않고 출력도 하지 않으며 반복문을 종료한다.\n",
        "[입력 예시 1]\n",
        "a\n",
        "1\n",
        "p\n",
        "2\n",
        "l\n",
        "1\n",
        "e\n",
        "1\n",
        ";\n",
        "[출력 예시 1]\n",
        "apple"
      ],
      "metadata": {
        "id": "GmezZWXeT62H"
      }
    },
    {
      "cell_type": "code",
      "source": [
        "list=\"\"\n",
        "while(1):\n",
        "  word=input()\n",
        "  if word == \"?\" or word == \"!\":\n",
        "    continue\n",
        "  elif word == \";\":\n",
        "    break\n",
        "  else:\n",
        "    n=int(input())\n",
        "    list+=word*n\n",
        "\n",
        "print(list)"
      ],
      "metadata": {
        "colab": {
          "base_uri": "https://localhost:8080/"
        },
        "id": "Lgy6qRkISQgX",
        "outputId": "99c7bc16-ec19-41f7-c885-67b3b603eb8f"
      },
      "execution_count": null,
      "outputs": [
        {
          "output_type": "stream",
          "name": "stdout",
          "text": [
            "a\n",
            "1\n",
            "p\n",
            "2\n",
            "l\n",
            "1\n",
            "e\n",
            "1\n",
            ";\n",
            "apple\n"
          ]
        }
      ]
    },
    {
      "cell_type": "markdown",
      "source": [
        "정수 n을 입력 받아, 아래와 같은 형태로 *을 출력하는 프로그램을 작성하시오.\n",
        "[입력 예시1]\n",
        "5\n",
        "\n",
        "[출력 예시1]\n",
        "*********\n",
        " *******\n",
        "  *****\n",
        "   ***\n",
        "    *\n",
        "   ***\n",
        "  *****\n",
        " *******\n",
        "*********\n",
        "[입력 예시 2]\n",
        "2"
      ],
      "metadata": {
        "id": "fZ3F0ltjXRS4"
      }
    },
    {
      "cell_type": "code",
      "source": [
        "n = int(input())\n",
        "\n",
        "for i in range(2 * n - 1):\n",
        "    if i < n:\n",
        "        stars = 2 * (n - i) - 1\n",
        "    else:\n",
        "        stars = 2 * (i - n + 2) - 1\n",
        "\n",
        "    spaces = (2 * n - 1 - stars) // 2\n",
        "    print(\" \" * spaces + \"*\" * stars)\n"
      ],
      "metadata": {
        "colab": {
          "base_uri": "https://localhost:8080/"
        },
        "id": "ah6BjendUAOw",
        "outputId": "c825edd4-d673-49b2-9eab-77cc22e0e189"
      },
      "execution_count": null,
      "outputs": [
        {
          "output_type": "stream",
          "name": "stdout",
          "text": [
            "3\n",
            "*****\n",
            " ***\n",
            "  *\n",
            " ***\n",
            "*****\n"
          ]
        }
      ]
    },
    {
      "cell_type": "markdown",
      "source": [
        "정수 N을 입력받아서, 1번째 줄에는 별 1개, 2번째 줄에는 별 2개, ..., N번째 줄에는 별 N개를 출력 예시와 같이 출력하여라.\n",
        "(단, 별 사이에 반드시 공백을 포함해야 한다.)\n",
        "[입력 예시 1]\n",
        "3\n",
        "[출력 예시 1]\n",
        "*\n",
        "* *\n",
        "* * *"
      ],
      "metadata": {
        "id": "hPsvTjSPvLac"
      }
    },
    {
      "cell_type": "code",
      "source": [
        "n= int(input())\n",
        "for i in range(n):\n",
        "  space1='*'*(i+1)\n",
        "  space2=' '*(n-i-1)\n",
        "  print(space1+space2)"
      ],
      "metadata": {
        "colab": {
          "base_uri": "https://localhost:8080/"
        },
        "id": "-1y10FZHSGNB",
        "outputId": "f3f72513-3ca2-4c92-a2dd-b4f5d7821ac0"
      },
      "execution_count": null,
      "outputs": [
        {
          "output_type": "stream",
          "name": "stdout",
          "text": [
            "3\n",
            "*  \n",
            "** \n",
            "***\n"
          ]
        }
      ]
    },
    {
      "cell_type": "markdown",
      "source": [],
      "metadata": {
        "id": "FNapyoBwvOhQ"
      }
    },
    {
      "cell_type": "markdown",
      "source": [
        "게임을 진행할 횟수를 자연수 n으로 입력 받고 가위/바위/보 중에 하나를 결정하여 문자로 입력 받은 후\n",
        "n회에 대하여 아래의 설명된 [가위바위보 게임]을 진행하여,\n",
        "이긴 횟수 / 비긴 횟수 / 진 횟수를 각각 출력하는 프로그램을 작성하라.\n",
        "[가위바위보 게임]\n",
        "가위바위보 게임은 각각 내고 싶은 것을 영어 소문자 혹은 대문자로 입력 받는다.\n",
        "(가위는 s 혹은 S, 주먹은 r 혹은 R,  보는 p 혹은 P로 입력 받는다.)\n",
        "가위는 보를 이길 수 있으며, 보는 주먹을 이길 수 있고, 주먹은 가위를 이길 수 있다.\n",
        "[입력 예시 1]\n",
        "1 -> 게임을 진행할 횟수\n",
        "s -> 가위로 게임 진행\n",
        "P -> 보\n",
        "[출력 예시 1]\n",
        "Win: 1\n",
        "Draw: 0\n",
        "Lose: 0"
      ],
      "metadata": {
        "id": "URd1cMcEvX_1"
      }
    },
    {
      "cell_type": "code",
      "source": [
        "n = int(input())\n",
        "# R,r ->주먹, #S,s ->가위 , #P,p->보\n",
        "choice=input()\n",
        "count1=0#for win\n",
        "count2=0#for draw\n",
        "count3=0#for lose\n",
        "for i in range(n):\n",
        "  man=input()\n",
        "  if choice =='R' or choice =='r':\n",
        "    if man =='S' or man =='s':\n",
        "      count1+=1\n",
        "    elif man =='R' or man == 'r':\n",
        "      count2+=1\n",
        "    else:\n",
        "      count3+=1\n",
        "  if choice =='S' or choice =='s':\n",
        "    if man =='P' or man =='p':\n",
        "      count1+=1\n",
        "    elif man =='S' or man == 's':\n",
        "      count2+=1\n",
        "    else:\n",
        "      count3+=1\n",
        "  if choice =='P' or choice =='p':\n",
        "    if man =='R' or man =='r':\n",
        "      count1+=1\n",
        "    elif man =='P' or man == 'p':\n",
        "      count2+=1\n",
        "    else:\n",
        "      count3+=1\n",
        "\n",
        "print(\"Win:%d\"%count1)\n",
        "print(\"Draw:%d\"%count2)\n",
        "print(\"Lose:%d\"%count3)\n"
      ],
      "metadata": {
        "colab": {
          "base_uri": "https://localhost:8080/"
        },
        "id": "3dXpTbIrS-3p",
        "outputId": "6fbc2b59-323b-453b-9d25-d237eb7bc1e3"
      },
      "execution_count": null,
      "outputs": [
        {
          "output_type": "stream",
          "name": "stdout",
          "text": [
            "4\n",
            "P\n",
            "s\n",
            "r\n",
            "p\n",
            "r\n",
            "Win:2\n",
            "Draw:1\n",
            "Lose:1\n"
          ]
        }
      ]
    },
    {
      "cell_type": "markdown",
      "source": [],
      "metadata": {
        "id": "5sgqMHkeV1Yq"
      }
    },
    {
      "cell_type": "markdown",
      "source": [
        "정수 N을 입력받아서, 구구단 1단부터 N단까지를 출력하여라.\n",
        "(Hint: 바깥쪽 반복문은 출력할 단, 안쪽 반복문은 해당 단에서 x1 ~ x9를 계산하게 구성해보자.)\n",
        "[입력 예시 1]\n",
        "3\n",
        "[출력 예시 1]\n",
        "1 x 1 = 1\n",
        "1 x 2 = 2\n",
        "1 x 3 = 3\n",
        "1 x 4 = 4\n",
        "1 x 5 = 5\n",
        "1 x 6 = 6\n",
        "1 x 7 = 7\n",
        "1 x 8 = 8\n",
        "1 x 9 = 9\n",
        "2 x 1 = 2\n",
        "2 x 2 = 4\n",
        "2 x 3 = 6\n",
        "2 x 4 = 8\n",
        "2 x 5 = 10\n",
        "2 x 6 = 12\n",
        "2 x 7 = 14\n",
        "2 x 8 = 16\n",
        "2 x 9 = 18\n",
        "3 x 1 = 3\n",
        "3 x 2 = 6\n",
        "3 x 3 = 9\n",
        "3 x 4 = 12\n",
        "3 x 5 = 15\n",
        "3 x 6 = 18\n",
        "3 x 7 = 21\n",
        "3 x 8 = 24\n",
        "3 x 9 = 27"
      ],
      "metadata": {
        "id": "YO0m9bpSvmiW"
      }
    },
    {
      "cell_type": "code",
      "source": [
        "n=int(input())\n",
        "for i in range(1,n+1):\n",
        "  for j in range(1,10):\n",
        "    print(\"%d x %d = %d\"%(i,j,i*j))"
      ],
      "metadata": {
        "colab": {
          "base_uri": "https://localhost:8080/"
        },
        "id": "O62tYoueb_gu",
        "outputId": "22d86ff8-f57b-4129-da43-97c1bf030243"
      },
      "execution_count": null,
      "outputs": [
        {
          "output_type": "stream",
          "name": "stdout",
          "text": [
            "3\n",
            "1 x 1 = 1\n",
            "1 x 2 = 2\n",
            "1 x 3 = 3\n",
            "1 x 4 = 4\n",
            "1 x 5 = 5\n",
            "1 x 6 = 6\n",
            "1 x 7 = 7\n",
            "1 x 8 = 8\n",
            "1 x 9 = 9\n",
            "2 x 1 = 2\n",
            "2 x 2 = 4\n",
            "2 x 3 = 6\n",
            "2 x 4 = 8\n",
            "2 x 5 = 10\n",
            "2 x 6 = 12\n",
            "2 x 7 = 14\n",
            "2 x 8 = 16\n",
            "2 x 9 = 18\n",
            "3 x 1 = 3\n",
            "3 x 2 = 6\n",
            "3 x 3 = 9\n",
            "3 x 4 = 12\n",
            "3 x 5 = 15\n",
            "3 x 6 = 18\n",
            "3 x 7 = 21\n",
            "3 x 8 = 24\n",
            "3 x 9 = 27\n"
          ]
        }
      ]
    },
    {
      "cell_type": "markdown",
      "source": [
        "어떤 물건의 가격과 세율(%)을 정수로 입력받아 세금을 적용한 최종 가격을 계산하는 프로그램을 작성하세요.\n",
        "단, 세율은 0과 100사이의 정수로 입력되며, 최종 가격은 소수점 이하는 버림하여 정수로 출력합니다.\n",
        "\n",
        "[입력예시1]\n",
        "12000\n",
        "13\n",
        "\n",
        "[출력예시1]\n",
        "Total = 13560"
      ],
      "metadata": {
        "id": "5EAaTEbo4xlG"
      }
    },
    {
      "cell_type": "code",
      "source": [
        "price = int(input())\n",
        "rate=int(input())\n",
        "rate1=float(1+rate/100)\n",
        "total=price*rate1\n",
        "print(\"Total =\",int(total+0.5))\n"
      ],
      "metadata": {
        "colab": {
          "base_uri": "https://localhost:8080/"
        },
        "id": "boUYYVUS4v-0",
        "outputId": "0f7042c7-3ef8-4061-eafe-f6590d0c35e8"
      },
      "execution_count": null,
      "outputs": [
        {
          "output_type": "stream",
          "name": "stdout",
          "text": [
            "12000\n",
            "13\n",
            "Total= 13560\n"
          ]
        }
      ]
    },
    {
      "cell_type": "markdown",
      "source": [
        "원서는 마트에서 선물을 사려고 한다. 구매할 선물의 가격은 3000원이고, 돈이 남으면 1500원의 음료수를 사려고 한다.\n",
        "현재 가진 돈을 정수로 입력받고, 예시와 같이 선물(과 음료수) 구매 후 남은 돈을 출력하시오.\n",
        "(단, 현재 가진 돈은 최소 3000원 이상으로 주어진다.)\n",
        "\n",
        "[입력 예시 1]\n",
        "5000\n",
        "\n",
        "[출력 예시 1]\n",
        "Buy Gift\n",
        "Buy Drink\n",
        "Money = 500\n",
        "\n",
        "[입력 예시 2]\n",
        "3000\n",
        "\n",
        "[출력 예시 2]\n",
        "Buy Gift\n",
        "Money = 0\n",
        "\n",
        "[입력 예시 3]\n",
        "4500\n",
        "\n",
        "[출력 예시 3]\n",
        "Buy Gift\n",
        "Buy Drink\n",
        "Money = 0"
      ],
      "metadata": {
        "id": "P7zuyHKleDO2"
      }
    },
    {
      "cell_type": "code",
      "source": [
        "price=int(input())\n",
        "\n",
        "price-=3000\n",
        "print(\"Buy Gift\")\n",
        "if price>=1500:\n",
        "    print(\"Buy Drink\")\n",
        "    price-=1500\n",
        "print(\"Money= %d\"%price)\n"
      ],
      "metadata": {
        "colab": {
          "base_uri": "https://localhost:8080/"
        },
        "id": "mimVnX8J8g2T",
        "outputId": "aca1d821-ebe7-4f0a-c107-180fad4e9270"
      },
      "execution_count": 8,
      "outputs": [
        {
          "output_type": "stream",
          "name": "stdout",
          "text": [
            "5000\n",
            "Buy Gift\n",
            "Buy Drink\n",
            "Money= 500\n"
          ]
        }
      ]
    },
    {
      "cell_type": "markdown",
      "source": [
        "정수를 입력받아, 그 수가 8 이상이면서 동시에 10과 다른 수인지를 관계 연산자를 사용하여 연산한 결과를 출력하시오.\n",
        "[입력 예시 1]\n",
        "9\n",
        "[출력 예시 1]\n",
        "True"
      ],
      "metadata": {
        "id": "B18E_OkmgxFn"
      }
    },
    {
      "cell_type": "code",
      "source": [
        "a=int(input())\n",
        "print(a>=8 and a!=10)"
      ],
      "metadata": {
        "colab": {
          "base_uri": "https://localhost:8080/"
        },
        "id": "6OawJ_F5gwx-",
        "outputId": "2dc3aa7c-4c91-4d3b-a9bf-36ff377d5224"
      },
      "execution_count": 10,
      "outputs": [
        {
          "output_type": "stream",
          "name": "stdout",
          "text": [
            "10\n",
            "False\n"
          ]
        }
      ]
    }
  ]
}