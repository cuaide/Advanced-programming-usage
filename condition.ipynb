{
  "nbformat": 4,
  "nbformat_minor": 0,
  "metadata": {
    "colab": {
      "provenance": [],
      "authorship_tag": "ABX9TyMuh702KhzMc8k46Mt8GY00",
      "include_colab_link": true
    },
    "kernelspec": {
      "name": "python3",
      "display_name": "Python 3"
    },
    "language_info": {
      "name": "python"
    }
  },
  "cells": [
    {
      "cell_type": "markdown",
      "metadata": {
        "id": "view-in-github",
        "colab_type": "text"
      },
      "source": [
        "<a href=\"https://colab.research.google.com/github/cuaide/Advanced-programming-usage/blob/main/condition.ipynb\" target=\"_parent\"><img src=\"https://colab.research.google.com/assets/colab-badge.svg\" alt=\"Open In Colab\"/></a>"
      ]
    },
    {
      "cell_type": "code",
      "execution_count": 1,
      "metadata": {
        "colab": {
          "base_uri": "https://localhost:8080/"
        },
        "id": "qYHeTK7ZlbhG",
        "outputId": "2d7386f5-ee39-4f97-8a86-85cbf61d51f3"
      },
      "outputs": [
        {
          "output_type": "stream",
          "name": "stdout",
          "text": [
            "2\n",
            "4\n",
            "7\n",
            "4\n"
          ]
        }
      ],
      "source": [
        "a=int(input())\n",
        "b=int(input())\n",
        "c=int(input())\n",
        "\n",
        "if(a>b and b>c): #Find the second largest number and store b\n",
        "  print(b)\n",
        "elif(c>b and b>a): #Find the second largest number and store b\n",
        "  print(b)\n",
        "elif(b>a and a>c): #Find the second largest number and store a\n",
        "  print(a)\n",
        "elif(b<a and a<c):#Find the second largest number and store a\n",
        "  print(a)\n",
        "elif(a<c and c<b):#Find the second largest number and store c\n",
        "  print(c)\n",
        "elif(b<c and c<a):#Find the second largest number and store c\n",
        "  print(c)\n"
      ]
    }
  ]
}