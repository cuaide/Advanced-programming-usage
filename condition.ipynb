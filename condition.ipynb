{
  "nbformat": 4,
  "nbformat_minor": 0,
  "metadata": {
    "colab": {
      "provenance": [],
      "authorship_tag": "ABX9TyN2V5xyCBzXu7bABBHJTxVm",
      "include_colab_link": true
    },
    "kernelspec": {
      "name": "python3",
      "display_name": "Python 3"
    },
    "language_info": {
      "name": "python"
    }
  },
  "cells": [
    {
      "cell_type": "markdown",
      "metadata": {
        "id": "view-in-github",
        "colab_type": "text"
      },
      "source": [
        "<a href=\"https://colab.research.google.com/github/cuaide/Advanced-programming-usage/blob/main/condition.ipynb\" target=\"_parent\"><img src=\"https://colab.research.google.com/assets/colab-badge.svg\" alt=\"Open In Colab\"/></a>"
      ]
    },
    {
      "cell_type": "markdown",
      "source": [
        "세 개의 정수를 차례대로 입력받아, 두 번째로 큰 수를 출력하는 프로그램을 작성하시오.\n",
        "(단, 입력 받는 세 정수는 값이 모두 다르다고 가정한다.)\n",
        "\n",
        "[입력 예시 1]\n",
        "1\n",
        "2\n",
        "3\n",
        "\n",
        "[출력 예시 1]\n",
        "2\n",
        "\n",
        "[입력 예시 2]\n",
        "4\n",
        "8\n",
        "7\n",
        "\n",
        "[출력 예시 2]\n",
        "7"
      ],
      "metadata": {
        "id": "AdXW7POYl5Ha"
      }
    },
    {
      "cell_type": "code",
      "execution_count": 1,
      "metadata": {
        "colab": {
          "base_uri": "https://localhost:8080/"
        },
        "id": "qYHeTK7ZlbhG",
        "outputId": "2d7386f5-ee39-4f97-8a86-85cbf61d51f3"
      },
      "outputs": [
        {
          "output_type": "stream",
          "name": "stdout",
          "text": [
            "2\n",
            "4\n",
            "7\n",
            "4\n"
          ]
        }
      ],
      "source": [
        "a=int(input())\n",
        "b=int(input())\n",
        "c=int(input())\n",
        "\n",
        "if(a>b and b>c): #Find the second largest number and store b\n",
        "  print(b)\n",
        "elif(c>b and b>a): #Find the second largest number and store b\n",
        "  print(b)\n",
        "elif(b>a and a>c): #Find the second largest number and store a\n",
        "  print(a)\n",
        "elif(b<a and a<c):#Find the second largest number and store a\n",
        "  print(a)\n",
        "elif(a<c and c<b):#Find the second largest number and store c\n",
        "  print(c)\n",
        "elif(b<c and c<a):#Find the second largest number and store c\n",
        "  print(c)\n"
      ]
    }
  ]
}