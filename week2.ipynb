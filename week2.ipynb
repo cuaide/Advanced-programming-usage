{
  "nbformat": 4,
  "nbformat_minor": 0,
  "metadata": {
    "colab": {
      "provenance": [],
      "authorship_tag": "ABX9TyNeeN6uT+10d7fNxfRbYIN/",
      "include_colab_link": true
    },
    "kernelspec": {
      "name": "python3",
      "display_name": "Python 3"
    },
    "language_info": {
      "name": "python"
    }
  },
  "cells": [
    {
      "cell_type": "markdown",
      "metadata": {
        "id": "view-in-github",
        "colab_type": "text"
      },
      "source": [
        "<a href=\"https://colab.research.google.com/github/cuaide/Advanced-programming-usage/blob/main/week2.ipynb\" target=\"_parent\"><img src=\"https://colab.research.google.com/assets/colab-badge.svg\" alt=\"Open In Colab\"/></a>"
      ]
    },
    {
      "cell_type": "code",
      "execution_count": 1,
      "metadata": {
        "colab": {
          "base_uri": "https://localhost:8080/"
        },
        "id": "STFx24k4fZA2",
        "outputId": "59a8f047-fea8-4401-8348-db14f886d7db"
      },
      "outputs": [
        {
          "output_type": "stream",
          "name": "stdout",
          "text": [
            "12000\n",
            "13\n",
            "Total = 13560\n"
          ]
        }
      ],
      "source": [
        "price = int(input())\n",
        "tax_rate = int(input())\n",
        "\n",
        "final_price =float(price * (1 + tax_rate / 100))\n",
        "final_price+=0.5\n",
        "print(\"Total =\", int(final_price))"
      ]
    }
  ]
}