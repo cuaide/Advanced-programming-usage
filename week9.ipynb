{
  "nbformat": 4,
  "nbformat_minor": 0,
  "metadata": {
    "colab": {
      "provenance": [],
      "authorship_tag": "ABX9TyP9Slbbb7LM+bPaCV4bEJiq",
      "include_colab_link": true
    },
    "kernelspec": {
      "name": "python3",
      "display_name": "Python 3"
    },
    "language_info": {
      "name": "python"
    }
  },
  "cells": [
    {
      "cell_type": "markdown",
      "metadata": {
        "id": "view-in-github",
        "colab_type": "text"
      },
      "source": [
        "<a href=\"https://colab.research.google.com/github/cuaide/Advanced-programming-usage/blob/main/week9.ipynb\" target=\"_parent\"><img src=\"https://colab.research.google.com/assets/colab-badge.svg\" alt=\"Open In Colab\"/></a>"
      ]
    },
    {
      "cell_type": "markdown",
      "source": [
        "#3.양의 정수를 받아 홀수인지를 판별하는 함수를 작성하고, 양의 정수 N을 받아 홀수 판별 함수를 호출하여 1부터 N까지의 홀수의 개수를 반환하는 함수를 작성하라."
      ],
      "metadata": {
        "id": "y3JoIvg4-pwb"
      }
    },
    {
      "cell_type": "code",
      "execution_count": null,
      "metadata": {
        "colab": {
          "base_uri": "https://localhost:8080/"
        },
        "id": "CzlIbVwDsjkM",
        "outputId": "57e6cea4-4474-43f2-8e2f-6e10522b23b2"
      },
      "outputs": [
        {
          "output_type": "stream",
          "name": "stdout",
          "text": [
            "7\n",
            "4\n"
          ]
        }
      ],
      "source": [
        "def isOdd(N):\n",
        "  if N % 2 ==0:\n",
        "    return 0\n",
        "  else:\n",
        "    return countOddNums(N)\n",
        "def countOddNums(N):\n",
        "  count=0\n",
        "  for i in range(1,N+1):\n",
        "    if i % 2 !=0:\n",
        "      count+=1\n",
        "  return count\n",
        "N=int(input())\n",
        "print(isOdd(N))\n"
      ]
    },
    {
      "cell_type": "markdown",
      "source": [
        "#4.임의의 자연수 n1과 n2를 입력받고, 두 자연수를 전달 받아 두 자연수의 최소 공배수를 구하여 반환하는 함수를 작성하여 반환받아 결과를 출력하는 프로그램을 작성하라."
      ],
      "metadata": {
        "id": "Q5ExVb1ewbsa"
      }
    },
    {
      "cell_type": "code",
      "source": [
        "def get_lcm(n1,n2):\n",
        "    if n1 > n2:\n",
        "        max = n1\n",
        "    else:\n",
        "        max = n2\n",
        "    for i in range(max,n1*n2+1):\n",
        "        if i % n1 ==0 and i % n2 ==0:\n",
        "            return i\n",
        "n1 = int(input())\n",
        "n2 = int(input())\n",
        "print(get_lcm(n1,n2))\n"
      ],
      "metadata": {
        "id": "rCcJqhaZtH7I",
        "colab": {
          "base_uri": "https://localhost:8080/"
        },
        "outputId": "c13ae9e7-8053-4063-dbef-4790c24147a0"
      },
      "execution_count": null,
      "outputs": [
        {
          "output_type": "stream",
          "name": "stdout",
          "text": [
            "4\n",
            "6\n",
            "12\n"
          ]
        }
      ]
    },
    {
      "cell_type": "markdown",
      "source": [
        "#5.len함수는 문자열을 입력값으로 주면 해당 문자열의 길이를 반환한다.사용자에게서 정수 N을 입력받고,N개의 문자열을 입력받아 가장 길이가 긴 문자열의 출력하라(문자열들은 각각 띄어쓰기가 없이 주어진다.)"
      ],
      "metadata": {
        "id": "KQ89L9itwzpw"
      }
    },
    {
      "cell_type": "code",
      "source": [
        "n= int(input())\n",
        "max=0\n",
        "for i in range(n):\n",
        "    word = input()\n",
        "    if max <= len(word):\n",
        "        max= len(word)\n",
        "print(max)\n"
      ],
      "metadata": {
        "colab": {
          "base_uri": "https://localhost:8080/"
        },
        "id": "QZtDd5KuwzO7",
        "outputId": "dd0391b6-7b40-4986-fd53-87a1ede98063"
      },
      "execution_count": null,
      "outputs": [
        {
          "output_type": "stream",
          "name": "stdout",
          "text": [
            "3\n",
            "hello\n",
            "sejong\n",
            "univ\n",
            "6\n"
          ]
        }
      ]
    },
    {
      "cell_type": "markdown",
      "source": [
        "#Quiz.자연수 N을 입력값으로 받아, 1부터 N까지의 모든 소수를 출력하는 printPrimes 함수를 작성하시오.사용자로부터 1 이상의 정수를 입력받아 printPrimes 함수를 이용해 해당 범위 내의 모든 소수를 예시와 같이 출력하시오."
      ],
      "metadata": {
        "id": "ccofqBSJzb6I"
      }
    },
    {
      "cell_type": "code",
      "source": [
        "def printPrimes(N):\n",
        "  for i in range(1,N+1):\n",
        "    cnt =0\n",
        "    for j in range(1,i+1):\n",
        "      if i % j ==0:\n",
        "        cnt+=1\n",
        "    if cnt ==2:\n",
        "      print(i)\n",
        "N=int(input())\n",
        "printPrimes(N)\n"
      ],
      "metadata": {
        "colab": {
          "base_uri": "https://localhost:8080/"
        },
        "id": "DbpBcD5Ky7wn",
        "outputId": "f32a0c75-43f8-4f99-91b8-235f749f74ed"
      },
      "execution_count": null,
      "outputs": [
        {
          "output_type": "stream",
          "name": "stdout",
          "text": [
            "20\n",
            "2\n",
            "3\n",
            "5\n",
            "7\n",
            "11\n",
            "13\n",
            "17\n",
            "19\n"
          ]
        }
      ]
    },
    {
      "cell_type": "code",
      "source": [],
      "metadata": {
        "id": "faCtsm8v1iS9"
      },
      "execution_count": null,
      "outputs": []
    }
  ]
}